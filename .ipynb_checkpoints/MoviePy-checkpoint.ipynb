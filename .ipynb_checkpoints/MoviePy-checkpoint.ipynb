{
 "cells": [
  {
   "cell_type": "code",
   "execution_count": 1,
   "id": "100cb28b-90dc-4607-9022-d68e554301e6",
   "metadata": {},
   "outputs": [
    {
     "ename": "AttributeError",
     "evalue": "module 'PIL.ImageQt' has no attribute 'ImageQt'",
     "output_type": "error",
     "traceback": [
      "\u001b[1;31m---------------------------------------------------------------------------\u001b[0m",
      "\u001b[1;31mAttributeError\u001b[0m                            Traceback (most recent call last)",
      "Cell \u001b[1;32mIn[1], line 41\u001b[0m, in \u001b[0;36mVideoPlayer.slider_released\u001b[1;34m(self)\u001b[0m\n\u001b[0;32m     39\u001b[0m \u001b[38;5;66;03m# Numpy → Pillow → QPixmap\u001b[39;00m\n\u001b[0;32m     40\u001b[0m frame_image \u001b[38;5;241m=\u001b[39m Image\u001b[38;5;241m.\u001b[39mfromarray(frame)\n\u001b[1;32m---> 41\u001b[0m q_image \u001b[38;5;241m=\u001b[39m \u001b[43mImageQt\u001b[49m\u001b[38;5;241;43m.\u001b[39;49m\u001b[43mImageQt\u001b[49m(frame_image)\n\u001b[0;32m     42\u001b[0m \u001b[38;5;28mself\u001b[39m\u001b[38;5;241m.\u001b[39mvideo_label\u001b[38;5;241m.\u001b[39msetPixmap(QPixmap\u001b[38;5;241m.\u001b[39mfromImage(q_image))\n",
      "\u001b[1;31mAttributeError\u001b[0m: module 'PIL.ImageQt' has no attribute 'ImageQt'"
     ]
    },
    {
     "ename": "SystemExit",
     "evalue": "0",
     "output_type": "error",
     "traceback": [
      "An exception has occurred, use %tb to see the full traceback.\n",
      "\u001b[1;31mSystemExit\u001b[0m\u001b[1;31m:\u001b[0m 0\n"
     ]
    },
    {
     "name": "stderr",
     "output_type": "stream",
     "text": [
      "C:\\ProgramData\\anaconda3\\envs\\IBS_BAP\\lib\\site-packages\\IPython\\core\\interactiveshell.py:3585: UserWarning: To exit: use 'exit', 'quit', or Ctrl-D.\n",
      "  warn(\"To exit: use 'exit', 'quit', or Ctrl-D.\", stacklevel=1)\n"
     ]
    }
   ],
   "source": [
    "from PyQt5.QtWidgets import QApplication, QMainWindow, QSlider, QLabel, QVBoxLayout, QWidget\n",
    "from PyQt5.QtCore import Qt\n",
    "from PyQt5.QtGui import QImage, QPixmap, QPainter, QPen\n",
    "from moviepy import VideoFileClip, TextClip, CompositeVideoClip\n",
    "from PIL import Image, ImageQt\n",
    "import numpy as np\n",
    "\n",
    "class VideoPlayer(QMainWindow):\n",
    "    def __init__(self, video_path):\n",
    "        super().__init__()\n",
    "        self.setWindowTitle(\"Video Player with MoviePy\")\n",
    "        self.setGeometry(100, 100, 800, 600)\n",
    "        \n",
    "        self.video = VideoFileClip(video_path)\n",
    "        self.fps = self.video.fps\n",
    "        self.total_frames = int(self.video.duration * self.fps)\n",
    "        \n",
    "        self.video_label = QLabel(self)\n",
    "        self.video_label.setScaledContents(True)\n",
    "        \n",
    "        self.slider = QSlider(Qt.Horizontal)\n",
    "        self.slider.setMinimum(0)\n",
    "        self.slider.setMaximum(self.total_frames - 1)\n",
    "        self.slider.sliderReleased.connect(self.slider_released)\n",
    "        \n",
    "        layout = QVBoxLayout()\n",
    "        layout.addWidget(self.video_label)\n",
    "        layout.addWidget(self.slider)\n",
    "        \n",
    "        container = QWidget()\n",
    "        container.setLayout(layout)\n",
    "        self.setCentralWidget(container)\n",
    "    \n",
    "    def slider_released(self):\n",
    "        target_frame = self.slider.value()\n",
    "        time_in_seconds = target_frame / self.fps\n",
    "        frame = self.video.get_frame(time_in_seconds)\n",
    "        \n",
    "        # Numpy → Pillow → QPixmap\n",
    "        frame_image = Image.fromarray(frame)\n",
    "        q_image = ImageQt.ImageQt(frame_image)\n",
    "        self.video_label.setPixmap(QPixmap.fromImage(q_image))\n",
    "\n",
    "\n",
    "if __name__ == \"__main__\":\n",
    "    import sys\n",
    "    app = QApplication(sys.argv)\n",
    "    video_path = \"D:/spkim/data/20241209_40Hz_B6_young/20241209_40Hz_B6_young/2024-12-09 14-47-06-517.mp4\"\n",
    "    player = VideoPlayer(video_path)\n",
    "    player.show()\n",
    "    sys.exit(app.exec_())\n"
   ]
  },
  {
   "cell_type": "code",
   "execution_count": 2,
   "id": "03cd7f6d-076c-4235-b19e-448da41c507c",
   "metadata": {},
   "outputs": [
    {
     "name": "stdout",
     "output_type": "stream",
     "text": [
      "MoviePy - Building video result.mp4.\n",
      "MoviePy - Writing audio in resultTEMP_MPY_wvf_snd.mp3\n"
     ]
    },
    {
     "name": "stderr",
     "output_type": "stream",
     "text": [
      "                                                                                                                       "
     ]
    },
    {
     "name": "stdout",
     "output_type": "stream",
     "text": [
      "MoviePy - Done.\n",
      "MoviePy - Writing video result.mp4\n",
      "\n"
     ]
    },
    {
     "name": "stderr",
     "output_type": "stream",
     "text": [
      "                                                                                                                       "
     ]
    },
    {
     "name": "stdout",
     "output_type": "stream",
     "text": [
      "MoviePy - Done !\n",
      "MoviePy - video ready result.mp4\n"
     ]
    }
   ],
   "source": [
    "from moviepy import VideoFileClip, TextClip, CompositeVideoClip\n",
    "\n",
    "# Load file example.mp4 and keep only the subclip from 00:00:10 to 00:00:20\n",
    "# Reduce the audio volume to 80% of its original volume\n",
    "\n",
    "clip = (\n",
    "    VideoFileClip(\"D:/spkim/data/20241209_40Hz_B6_young/20241209_40Hz_B6_young/2024-12-09 14-47-06-517.mp4\")\n",
    "    .subclipped(10, 20)\n",
    "    .with_volume_scaled(0.8)\n",
    ")\n",
    "\n",
    "# Generate a text clip. You can customize the font, color, etc.\n",
    "txt_clip = TextClip(\n",
    "    font=\"C:/Windows/Fonts/arial.ttf\",\n",
    "    text=\"Hello there!\",\n",
    "    font_size=70,\n",
    "    color='white'\n",
    ").with_duration(10).with_position('center')\n",
    "\n",
    "# Overlay the text clip on the first video clip\n",
    "final_video = CompositeVideoClip([clip, txt_clip])\n",
    "final_video.write_videofile(\"result.mp4\")"
   ]
  },
  {
   "cell_type": "code",
   "execution_count": 3,
   "id": "25288acc-e5f2-4791-8b46-e53377dcfa35",
   "metadata": {},
   "outputs": [
    {
     "name": "stdout",
     "output_type": "stream",
     "text": [
      "[Info] QApplication resources have been cleaned up.\n"
     ]
    }
   ],
   "source": [
    "import sys\n",
    "from PyQt5.QtWidgets import (\n",
    "    QApplication, QMainWindow, QLabel, QSlider, QPushButton, QVBoxLayout, QWidget, QFileDialog\n",
    ")\n",
    "from PyQt5.QtCore import Qt, QTimer\n",
    "from PyQt5.QtGui import QPixmap, QImage\n",
    "# from moviepy.editor import VideoFileClip\n",
    "from moviepy import *\n",
    "import numpy as np\n",
    "\n",
    "\n",
    "class VideoPlayer(QMainWindow):\n",
    "    def __init__(self):\n",
    "        super().__init__()\n",
    "        self.setWindowTitle(\"MoviePy Video Player with Slider\")\n",
    "        self.setGeometry(100, 100, 800, 600)\n",
    "\n",
    "        # UI 요소 초기화\n",
    "        self.video_label = QLabel(self)\n",
    "        self.video_label.setFixedSize(800, 450)\n",
    "        self.video_label.setStyleSheet(\"background-color: black;\")\n",
    "\n",
    "        self.slider = QSlider(Qt.Horizontal, self)\n",
    "        self.slider.setRange(0, 100)\n",
    "        self.slider.sliderMoved.connect(self.set_video_position)\n",
    "\n",
    "        self.play_button = QPushButton(\"Play\", self)\n",
    "        self.play_button.clicked.connect(self.toggle_play_pause)\n",
    "\n",
    "        self.open_button = QPushButton(\"Open Video\", self)\n",
    "        self.open_button.clicked.connect(self.open_video)\n",
    "\n",
    "        # 타이머 설정\n",
    "        self.timer = QTimer(self)\n",
    "        self.timer.timeout.connect(self.next_frame)\n",
    "\n",
    "        # 레이아웃 설정\n",
    "        layout = QVBoxLayout()\n",
    "        layout.addWidget(self.video_label)\n",
    "        layout.addWidget(self.slider)\n",
    "        layout.addWidget(self.play_button)\n",
    "        layout.addWidget(self.open_button)\n",
    "\n",
    "        container = QWidget()\n",
    "        container.setLayout(layout)\n",
    "        self.setCentralWidget(container)\n",
    "\n",
    "        # 변수 초기화\n",
    "        self.video_clip = None\n",
    "        self.current_time = 0\n",
    "        self.is_playing = False\n",
    "        self.frame_rate = 24  # 기본 FPS\n",
    "\n",
    "    def open_video(self):\n",
    "        video_path, _ = QFileDialog.getOpenFileName(self, \"Open Video File\", \"\", \"Video Files (*.mp4 *.avi *.mov)\")\n",
    "        if video_path:\n",
    "            self.video_clip = VideoFileClip(video_path)\n",
    "            self.frame_rate = self.video_clip.fps\n",
    "            self.slider.setRange(0, int(self.video_clip.duration))\n",
    "            self.current_time = 0\n",
    "            self.timer.start(10)\n",
    "            self.is_playing = True\n",
    "            self.play_button.setText(\"Pause\")\n",
    "\n",
    "    def toggle_play_pause(self):\n",
    "        if self.is_playing:\n",
    "            self.timer.stop()\n",
    "            self.play_button.setText(\"Play\")\n",
    "        else:\n",
    "            self.timer.start(10)\n",
    "            self.play_button.setText(\"Pause\")\n",
    "        self.is_playing = not self.is_playing\n",
    "\n",
    "    def next_frame(self):\n",
    "        if self.video_clip and self.is_playing:\n",
    "            if self.current_time < self.video_clip.duration:\n",
    "                frame = self.video_clip.get_frame(self.current_time)\n",
    "                image = self.numpy_to_qimage(frame)\n",
    "                self.video_label.setPixmap(QPixmap.fromImage(image))\n",
    "                self.current_time += 1 / self.frame_rate\n",
    "                self.slider.setValue(int(self.current_time))\n",
    "            else:\n",
    "                self.timer.stop()\n",
    "                self.play_button.setText(\"Play\")\n",
    "                self.is_playing = False\n",
    "\n",
    "    def set_video_position(self, position):\n",
    "        if self.video_clip:\n",
    "            self.current_time = position\n",
    "            frame = self.video_clip.get_frame(self.current_time)\n",
    "            image = self.numpy_to_qimage(frame)\n",
    "            self.video_label.setPixmap(QPixmap.fromImage(image))\n",
    "\n",
    "    def numpy_to_qimage(self, frame):\n",
    "        \"\"\"Numpy 배열을 QImage로 변환\"\"\"\n",
    "        frame = (frame * 255).astype(np.uint8)  # MoviePy는 0-1 범위 사용\n",
    "        height, width, channels = frame.shape\n",
    "        bytes_per_line = channels * width\n",
    "        image = QImage(frame.data, width, height, bytes_per_line, QImage.Format_RGB888)\n",
    "        return image\n",
    "\n",
    "\n",
    "# if __name__ == \"__main__\":\n",
    "#     app = QApplication(sys.argv)\n",
    "#     player = VideoPlayer()\n",
    "#     player.show()\n",
    "#     sys.exit(app.exec_())\n",
    "\n",
    "if __name__ == \"__main__\":\n",
    "    app = QApplication.instance()\n",
    "    if app is None:\n",
    "        app = QApplication(sys.argv)\n",
    "\n",
    "    player = VideoPlayer()\n",
    "    player.show()\n",
    "\n",
    "    try:\n",
    "        app.exec_()\n",
    "    except SystemExit:\n",
    "        print(\"[Info] PyQt5 Application exited cleanly.\")\n",
    "    finally:\n",
    "        app.quit()\n",
    "        del app\n",
    "        print(\"[Info] QApplication resources have been cleaned up.\")"
   ]
  },
  {
   "cell_type": "code",
   "execution_count": 7,
   "id": "6407c43e-b747-418e-b93c-0d54ace00c36",
   "metadata": {},
   "outputs": [
    {
     "name": "stdout",
     "output_type": "stream",
     "text": [
      "2.1.1\n"
     ]
    }
   ],
   "source": [
    "import moviepy\n",
    "print(moviepy.__version__)"
   ]
  },
  {
   "cell_type": "code",
   "execution_count": null,
   "id": "ba0f3e76-0d84-44ae-b4e2-5a25e034f208",
   "metadata": {},
   "outputs": [],
   "source": []
  }
 ],
 "metadata": {
  "kernelspec": {
   "display_name": "Python 3 (ipykernel)",
   "language": "python",
   "name": "python3"
  },
  "language_info": {
   "codemirror_mode": {
    "name": "ipython",
    "version": 3
   },
   "file_extension": ".py",
   "mimetype": "text/x-python",
   "name": "python",
   "nbconvert_exporter": "python",
   "pygments_lexer": "ipython3",
   "version": "3.10.16"
  }
 },
 "nbformat": 4,
 "nbformat_minor": 5
}
