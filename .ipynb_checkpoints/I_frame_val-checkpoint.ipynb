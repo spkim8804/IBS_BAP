{
 "cells": [
  {
   "cell_type": "code",
   "execution_count": 1,
   "id": "cba465dd-58f9-4909-a3b6-056775d845ba",
   "metadata": {},
   "outputs": [
    {
     "name": "stdout",
     "output_type": "stream",
     "text": [
      "D:\\spkim\\coding\\python\\IBS_BAP\\utils\\ffmpeg.exe\n",
      "[]\n"
     ]
    }
   ],
   "source": [
    "import os\n",
    "import subprocess\n",
    "\n",
    "def extract_first_frames(video_path, output_path=\"temp.mp4\", time = 5):\n",
    "    \"\"\"FFmpeg로 첫 5초만 추출\"\"\"\n",
    "    # ffmpeg_path = \"ffmpeg.exe\"  # ffmpeg 경로\n",
    "    ffmpeg_path = os.path.join(os.getcwd(), \"utils\\\\ffmpeg.exe\")  # ffprobe.exe 경로\n",
    "    print(ffmpeg_path)\n",
    "    cmd = [\n",
    "        ffmpeg_path,\n",
    "        \"-ss\", \"0\",\n",
    "        \"-t\", f\"{time}\",\n",
    "        \"-i\", video_path,\n",
    "        \"-c:v\", \"libx264\",\n",
    "        \"-c:v\", \"copy\",\n",
    "        output_path\n",
    "    ]\n",
    "    subprocess.run(cmd, stdout=subprocess.PIPE, stderr=subprocess.PIPE, text=True)\n",
    "    return output_path\n",
    "\n",
    "def analyze_video(video_path):\n",
    "    \"\"\"분석된 비디오 파일에서 프레임 타입 추출\"\"\"\n",
    "    ffprobe_path = os.path.join(os.getcwd(), \"utils\\\\ffprobe.exe\")  # ffprobe.exe 경로\n",
    "    # ffprobe_path = \"ffprobe.exe\"  # ffprobe 경로\n",
    "    cmd = [\n",
    "        ffprobe_path,\n",
    "        \"-i\", video_path,\n",
    "        \"-show_frames\",\n",
    "        \"-show_entries\", \"frame=pict_type\",\n",
    "        \"-of\", \"csv\"\n",
    "    ]\n",
    "    \n",
    "    result = subprocess.run(cmd, stdout=subprocess.PIPE, stderr=subprocess.PIPE, text=True)\n",
    "    frames = [\n",
    "        line.split(\",\")[-1] for line in result.stdout.splitlines()\n",
    "        if line.startswith(\"frame\") and line.split(\",\")[-1].strip() != \"\"\n",
    "    ]\n",
    "    return frames\n",
    "\n",
    "def delete_file(file_path):\n",
    "    \"\"\"지정된 파일 삭제\"\"\"\n",
    "    if os.path.exists(file_path):\n",
    "        os.remove(file_path)\n",
    "        print(f\"Deleted: {file_path}\")\n",
    "    else:\n",
    "        print(f\"File not found: {file_path}\")\n",
    "        \n",
    "# 실행\n",
    "# input_video = 'D:/spkim/data/20241209_40Hz_B6_young/20241209_40Hz_B6_young/2024-12-09_1_20Hz_iframe.mp4'\n",
    "input_video = \"C_20Hz_Bandi_20fps.mp4\"\n",
    "output_video = extract_first_frames(input_video, time = 5)  # 앞 100프레임만 추출\n",
    "frame_types = analyze_video(output_video)  # 추출된 파일 분석\n",
    "print(frame_types)\n",
    "# delete_file(output_video)\n"
   ]
  },
  {
   "cell_type": "code",
   "execution_count": null,
   "id": "127f5ff0-3027-473c-947b-3a196c2a84db",
   "metadata": {},
   "outputs": [],
   "source": []
  }
 ],
 "metadata": {
  "kernelspec": {
   "display_name": "Python 3 (ipykernel)",
   "language": "python",
   "name": "python3"
  },
  "language_info": {
   "codemirror_mode": {
    "name": "ipython",
    "version": 3
   },
   "file_extension": ".py",
   "mimetype": "text/x-python",
   "name": "python",
   "nbconvert_exporter": "python",
   "pygments_lexer": "ipython3",
   "version": "3.10.16"
  }
 },
 "nbformat": 4,
 "nbformat_minor": 5
}
