{
 "cells": [
  {
   "cell_type": "code",
   "execution_count": 2,
   "id": "cba465dd-58f9-4909-a3b6-056775d845ba",
   "metadata": {},
   "outputs": [
    {
     "name": "stdout",
     "output_type": "stream",
     "text": [
      "총 209개의 프레임\n",
      "프레임 읽기 시간: 3.62 초\n",
      "프레임 저장 시간: 12.09 초\n",
      "총 걸린 시간: 15.71 초\n",
      "전체 실행 시간: 16.18 초\n",
      "프레임 저장 완료\n"
     ]
    }
   ],
   "source": [
    "import cv2\n",
    "import os\n",
    "import multiprocessing\n",
    "import time\n",
    "from utils import export_frame\n",
    "\n",
    "def save_frame(frame_data):\n",
    "    frame, count, output_folder = frame_data\n",
    "    cv2.imwrite(os.path.join(output_folder, f\"frame{count:06d}.jpg\"), frame, [cv2.IMWRITE_JPEG_QUALITY, 75])\n",
    "\n",
    "def save_frames_multiprocessing(video_path, output_folder):\n",
    "    if not os.path.exists(output_folder):\n",
    "        os.makedirs(output_folder)\n",
    "\n",
    "    vidcap = cv2.VideoCapture(video_path)\n",
    "    if not vidcap.isOpened():\n",
    "      print(\"비디오 파일을 열 수 없습니다.\")\n",
    "      return\n",
    "\n",
    "    success, image = vidcap.read()\n",
    "    count = 0\n",
    "    frame_data_list = []\n",
    "\n",
    "    start_read_time = time.time()\n",
    "    while success:\n",
    "        frame_data_list.append((image, count, f\"{output_folder}/frame_{count:06d}.jpg\"))\n",
    "        success, image = vidcap.read()\n",
    "        count += 1\n",
    "    end_read_time = time.time()\n",
    "\n",
    "    vidcap.release()\n",
    "\n",
    "    start_save_time = time.time()\n",
    "    with multiprocessing.Pool(processes=multiprocessing.cpu_count()) as pool:\n",
    "        # pool.map(save_frame, frame_data_list)\n",
    "        pool.map(export_frame.export_frame_image, frame_data_list)\n",
    "    end_save_time = time.time()\n",
    "\n",
    "    total_time = end_save_time - start_save_time + end_read_time - start_read_time\n",
    "    read_time = end_read_time - start_read_time\n",
    "    save_time = end_save_time - start_save_time\n",
    "\n",
    "    print(f\"총 {count}개의 프레임\")\n",
    "    print(f\"프레임 읽기 시간: {read_time:.2f} 초\")\n",
    "    print(f\"프레임 저장 시간: {save_time:.2f} 초\")\n",
    "    print(f\"총 걸린 시간: {total_time:.2f} 초\")\n",
    "\n",
    "if __name__ == \"__main__\":\n",
    "    video_path = \"D:/spkim/data/20241114_40Hz_test/20241114_40Hz_test/C_20Hz_Bandi_20fps.mp4\"\n",
    "    output_folder = \"output_frames\"\n",
    "\n",
    "    start_total = time.time()\n",
    "    save_frames_multiprocessing(video_path, output_folder)\n",
    "    end_total = time.time()\n",
    "    total_run_time = end_total - start_total\n",
    "    print(f\"전체 실행 시간: {total_run_time:.2f} 초\")\n",
    "    print(\"프레임 저장 완료\")"
   ]
  },
  {
   "cell_type": "code",
   "execution_count": 4,
   "id": "29fcad03-d94c-4113-ac6e-c423e54e0c7c",
   "metadata": {},
   "outputs": [
    {
     "name": "stdout",
     "output_type": "stream",
     "text": [
      "Assigning frames 0 to 52 to process 0\n",
      "Assigning frames 52 to 104 to process 1\n",
      "Assigning frames 104 to 156 to process 2\n",
      "Assigning frames 156 to 209 to process 3\n",
      "All processes completed!\n"
     ]
    }
   ],
   "source": [
    "import multiprocessing\n",
    "import os\n",
    "import cv2\n",
    "\n",
    "def extract_frames(video_path, output_dir, start_frame, end_frame):\n",
    "    print(f\"Process started for frames {start_frame} to {end_frame}\")\n",
    "    cap = cv2.VideoCapture(video_path)\n",
    "    if not cap.isOpened():\n",
    "        print(f\"Failed to open video in process for {start_frame}-{end_frame}\")\n",
    "        return\n",
    "    \n",
    "    for frame_num in range(start_frame, end_frame):\n",
    "        cap.set(cv2.CAP_PROP_POS_FRAMES, frame_num)\n",
    "        ret, frame = cap.read()\n",
    "        if not ret:\n",
    "            break\n",
    "        frame_filename = os.path.join(output_dir, f\"frame_{frame_num:06d}.jpg\")\n",
    "        cv2.imwrite(frame_filename, frame)\n",
    "    cap.release()\n",
    "    print(f\"Process complete for frames {start_frame} to {end_frame}\")\n",
    "\n",
    "def main():\n",
    "    video_path = \"D:/spkim/data/20241114_40Hz_test/20241114_40Hz_test/C_20Hz_Bandi_20fps.mp4\"\n",
    "    output_dir = \"frames\"\n",
    "    os.makedirs(output_dir, exist_ok=True)\n",
    "    \n",
    "    cap = cv2.VideoCapture(video_path)\n",
    "    total_frames = int(cap.get(cv2.CAP_PROP_FRAME_COUNT))\n",
    "    cap.release()\n",
    "    \n",
    "    num_processes = multiprocessing.cpu_count()\n",
    "    frames_per_process = total_frames // num_processes\n",
    "    processes = []\n",
    "    \n",
    "    for i in range(num_processes):\n",
    "        start_frame = i * frames_per_process\n",
    "        end_frame = (i + 1) * frames_per_process if i < num_processes - 1 else total_frames\n",
    "        print(f\"Assigning frames {start_frame} to {end_frame} to process {i}\")\n",
    "        process = multiprocessing.Process(\n",
    "            target=extract_frames,\n",
    "            args=(video_path, output_dir, start_frame, end_frame)\n",
    "        )\n",
    "        processes.append(process)\n",
    "        process.start()\n",
    "    \n",
    "    for process in processes:\n",
    "        process.join()\n",
    "        \n",
    "    print(\"All processes completed!\")\n",
    "\n",
    "if __name__ == \"__main__\":\n",
    "    main()"
   ]
  },
  {
   "cell_type": "code",
   "execution_count": 2,
   "id": "027584dd-3416-4ff4-99e5-bae84a20e7b9",
   "metadata": {},
   "outputs": [
    {
     "name": "stdout",
     "output_type": "stream",
     "text": [
      "CPU Cores: 6\n"
     ]
    }
   ],
   "source": [
    "print(f\"CPU Cores: {multiprocessing.cpu_count()}\")"
   ]
  },
  {
   "cell_type": "code",
   "execution_count": 5,
   "id": "7622adad-6a51-453c-8b78-5f0002643544",
   "metadata": {},
   "outputs": [
    {
     "name": "stdout",
     "output_type": "stream",
     "text": [
      "Python 3.10.16\n"
     ]
    }
   ],
   "source": [
    "!python --version"
   ]
  },
  {
   "cell_type": "code",
   "execution_count": 7,
   "id": "1df8164a-cc3b-4e85-9a01-dec7cd60755a",
   "metadata": {},
   "outputs": [
    {
     "ename": "RuntimeError",
     "evalue": "context has already been set",
     "output_type": "error",
     "traceback": [
      "\u001b[1;31m---------------------------------------------------------------------------\u001b[0m",
      "\u001b[1;31mRuntimeError\u001b[0m                              Traceback (most recent call last)",
      "Cell \u001b[1;32mIn[7], line 7\u001b[0m\n\u001b[0;32m      4\u001b[0m     \u001b[38;5;28mprint\u001b[39m(\u001b[38;5;124mf\u001b[39m\u001b[38;5;124m\"\u001b[39m\u001b[38;5;124mProcess \u001b[39m\u001b[38;5;132;01m{\u001b[39;00mnum\u001b[38;5;132;01m}\u001b[39;00m\u001b[38;5;124m started\u001b[39m\u001b[38;5;124m\"\u001b[39m)\n\u001b[0;32m      6\u001b[0m \u001b[38;5;28;01mif\u001b[39;00m \u001b[38;5;18m__name__\u001b[39m \u001b[38;5;241m==\u001b[39m \u001b[38;5;124m\"\u001b[39m\u001b[38;5;124m__main__\u001b[39m\u001b[38;5;124m\"\u001b[39m:\n\u001b[1;32m----> 7\u001b[0m     \u001b[43mmultiprocessing\u001b[49m\u001b[38;5;241;43m.\u001b[39;49m\u001b[43mset_start_method\u001b[49m\u001b[43m(\u001b[49m\u001b[38;5;124;43m\"\u001b[39;49m\u001b[38;5;124;43mspawn\u001b[39;49m\u001b[38;5;124;43m\"\u001b[39;49m\u001b[43m)\u001b[49m\n\u001b[0;32m      8\u001b[0m     processes \u001b[38;5;241m=\u001b[39m []\n\u001b[0;32m      9\u001b[0m     \u001b[38;5;28;01mfor\u001b[39;00m i \u001b[38;5;129;01min\u001b[39;00m \u001b[38;5;28mrange\u001b[39m(\u001b[38;5;241m4\u001b[39m):\n",
      "File \u001b[1;32mC:\\ProgramData\\anaconda3\\envs\\IBS_BAP\\lib\\multiprocessing\\context.py:247\u001b[0m, in \u001b[0;36mDefaultContext.set_start_method\u001b[1;34m(self, method, force)\u001b[0m\n\u001b[0;32m    245\u001b[0m \u001b[38;5;28;01mdef\u001b[39;00m \u001b[38;5;21mset_start_method\u001b[39m(\u001b[38;5;28mself\u001b[39m, method, force\u001b[38;5;241m=\u001b[39m\u001b[38;5;28;01mFalse\u001b[39;00m):\n\u001b[0;32m    246\u001b[0m     \u001b[38;5;28;01mif\u001b[39;00m \u001b[38;5;28mself\u001b[39m\u001b[38;5;241m.\u001b[39m_actual_context \u001b[38;5;129;01mis\u001b[39;00m \u001b[38;5;129;01mnot\u001b[39;00m \u001b[38;5;28;01mNone\u001b[39;00m \u001b[38;5;129;01mand\u001b[39;00m \u001b[38;5;129;01mnot\u001b[39;00m force:\n\u001b[1;32m--> 247\u001b[0m         \u001b[38;5;28;01mraise\u001b[39;00m \u001b[38;5;167;01mRuntimeError\u001b[39;00m(\u001b[38;5;124m'\u001b[39m\u001b[38;5;124mcontext has already been set\u001b[39m\u001b[38;5;124m'\u001b[39m)\n\u001b[0;32m    248\u001b[0m     \u001b[38;5;28;01mif\u001b[39;00m method \u001b[38;5;129;01mis\u001b[39;00m \u001b[38;5;28;01mNone\u001b[39;00m \u001b[38;5;129;01mand\u001b[39;00m force:\n\u001b[0;32m    249\u001b[0m         \u001b[38;5;28mself\u001b[39m\u001b[38;5;241m.\u001b[39m_actual_context \u001b[38;5;241m=\u001b[39m \u001b[38;5;28;01mNone\u001b[39;00m\n",
      "\u001b[1;31mRuntimeError\u001b[0m: context has already been set"
     ]
    }
   ],
   "source": [
    "import multiprocessing\n",
    "\n",
    "def worker(num):\n",
    "    print(f\"Process {num} started\")\n",
    "\n",
    "if __name__ == \"__main__\":\n",
    "    multiprocessing.set_start_method(\"spawn\")\n",
    "    processes = []\n",
    "    for i in range(4):\n",
    "        process = multiprocessing.Process(target=worker, args=(i,))\n",
    "        processes.append(process)\n",
    "        process.start()\n",
    "    \n",
    "    for process in processes:\n",
    "        process.join()\n",
    "    print(\"All processes finished\")\n"
   ]
  },
  {
   "cell_type": "code",
   "execution_count": 10,
   "id": "c213bbf9-6dc3-4a0b-a4f7-4bd84ae48021",
   "metadata": {},
   "outputs": [
    {
     "name": "stdout",
     "output_type": "stream",
     "text": [
      "All processes finished successfully!\n"
     ]
    }
   ],
   "source": [
    "import multiprocessing\n",
    "import os\n",
    "\n",
    "def worker(num):\n",
    "    print(f\"Process {num} started (PID: {os.getpid()})\")\n",
    "\n",
    "if __name__ == \"__main__\":\n",
    "    try:\n",
    "        multiprocessing.set_start_method(\"spawn\", force=True)\n",
    "    except RuntimeError:\n",
    "        pass  # 이미 설정된 경우 무시\n",
    "    \n",
    "    processes = []\n",
    "    for i in range(4):\n",
    "        process = multiprocessing.Process(target=worker, args=(i,))\n",
    "        processes.append(process)\n",
    "        process.start()\n",
    "    \n",
    "    for process in processes:\n",
    "        process.join()\n",
    "    print(\"All processes finished successfully!\")\n"
   ]
  },
  {
   "cell_type": "code",
   "execution_count": 6,
   "id": "ee683ad2-7266-42ea-9c12-68e74a84644b",
   "metadata": {},
   "outputs": [
    {
     "name": "stdout",
     "output_type": "stream",
     "text": [
      "[0, 1, 4, 9, 16, 25, 36, 49, 64, 81]\n"
     ]
    }
   ],
   "source": [
    "from multiprocessing import Pool\n",
    "from utils import workers\n",
    "if __name__ ==  '__main__': \n",
    " num_processors = 3\n",
    " p=Pool(processes = num_processors)\n",
    " output = p.map(workers.worker,[i for i in range(0,10)])\n",
    " print(output)"
   ]
  },
  {
   "cell_type": "code",
   "execution_count": null,
   "id": "127f5ff0-3027-473c-947b-3a196c2a84db",
   "metadata": {},
   "outputs": [],
   "source": []
  }
 ],
 "metadata": {
  "kernelspec": {
   "display_name": "Python 3 (ipykernel)",
   "language": "python",
   "name": "python3"
  },
  "language_info": {
   "codemirror_mode": {
    "name": "ipython",
    "version": 3
   },
   "file_extension": ".py",
   "mimetype": "text/x-python",
   "name": "python",
   "nbconvert_exporter": "python",
   "pygments_lexer": "ipython3",
   "version": "3.10.16"
  }
 },
 "nbformat": 4,
 "nbformat_minor": 5
}
