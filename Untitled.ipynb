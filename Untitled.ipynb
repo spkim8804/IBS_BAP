{
 "cells": [
  {
   "cell_type": "code",
   "execution_count": 1,
   "id": "ddcb3597-df1f-4cdd-8e3b-669916d8b0e5",
   "metadata": {},
   "outputs": [
    {
     "name": "stdout",
     "output_type": "stream",
     "text": [
      "Video extracted to: output_5sec.mp4\n",
      "Codec: h264\n",
      "Frames: []\n",
      "Deleted: output_5sec.mp4\n"
     ]
    }
   ],
   "source": [
    "import ffmpeg\n",
    "import os\n",
    "\n",
    "def extract_5_seconds(video_path, output_path=\"output_5sec.mp4\"):\n",
    "    \"\"\"ffmpeg-python으로 앞 5초짜리 비디오 생성\"\"\"\n",
    "    if not os.path.exists(video_path):\n",
    "        raise FileNotFoundError(f\"Input video not found: {video_path}\")\n",
    "    \n",
    "    # FFmpeg 명령을 ffmpeg-python으로 구현\n",
    "    (\n",
    "        ffmpeg\n",
    "        .input(video_path, ss=0, t=5)  # 시작 시간(ss)과 길이(t) 설정\n",
    "        .output(output_path, vcodec=\"libx264\", crf=18, acodec=\"copy\")  # 비디오 재인코딩, 오디오 복사\n",
    "        .overwrite_output()  # 기존 파일 덮어쓰기 허용\n",
    "        .run()\n",
    "    )\n",
    "    print(f\"Video extracted to: {output_path}\")\n",
    "\n",
    "def analyze_video(video_path):\n",
    "    \"\"\"ffmpeg-python으로 I/P/B 프레임 타입 분석\"\"\"\n",
    "    if not os.path.exists(video_path):\n",
    "        raise FileNotFoundError(f\"Video not found: {video_path}\")\n",
    "    \n",
    "    probe = ffmpeg.probe(video_path)\n",
    "    frames = []\n",
    "    \n",
    "    for stream in probe['streams']:\n",
    "        if stream['codec_type'] == 'video':  # 비디오 스트림만 처리\n",
    "            codec_name = stream.get('codec_name', 'unknown')\n",
    "            print(f\"Codec: {codec_name}\")\n",
    "            break\n",
    "\n",
    "    # 예제: 프레임 정보 추출 (전체 정보를 출력하지 않음)\n",
    "    for packet in probe.get('packets', []):\n",
    "        pict_type = packet.get('pict_type', None)\n",
    "        if pict_type:\n",
    "            frames.append(pict_type)\n",
    "    \n",
    "    return frames\n",
    "\n",
    "def delete_file(file_path):\n",
    "    \"\"\"지정된 파일 삭제\"\"\"\n",
    "    if os.path.exists(file_path):\n",
    "        os.remove(file_path)\n",
    "        print(f\"Deleted: {file_path}\")\n",
    "    else:\n",
    "        print(f\"File not found: {file_path}\")\n",
    "\n",
    "# 실행\n",
    "input_video = \"C_20Hz_Bandi_20fps.mp4\"\n",
    "output_video = \"output_5sec.mp4\"\n",
    "\n",
    "extract_5_seconds(input_video, output_video)  # 5초짜리 비디오 생성\n",
    "frames = analyze_video(output_video)          # 프레임 분석\n",
    "print(f\"Frames: {frames}\")\n",
    "delete_file(output_video)                     # 파일 삭제\n"
   ]
  },
  {
   "cell_type": "code",
   "execution_count": null,
   "id": "c3af494b-dd6c-4f2e-a3b2-8a161297750c",
   "metadata": {},
   "outputs": [],
   "source": []
  }
 ],
 "metadata": {
  "kernelspec": {
   "display_name": "Python 3 (ipykernel)",
   "language": "python",
   "name": "python3"
  },
  "language_info": {
   "codemirror_mode": {
    "name": "ipython",
    "version": 3
   },
   "file_extension": ".py",
   "mimetype": "text/x-python",
   "name": "python",
   "nbconvert_exporter": "python",
   "pygments_lexer": "ipython3",
   "version": "3.10.16"
  }
 },
 "nbformat": 4,
 "nbformat_minor": 5
}
