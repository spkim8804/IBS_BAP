{
 "cells": [
  {
   "cell_type": "code",
   "execution_count": 7,
   "id": "cba465dd-58f9-4909-a3b6-056775d845ba",
   "metadata": {},
   "outputs": [
    {
     "name": "stdout",
     "output_type": "stream",
     "text": [
      "D:\\spkim\\coding\\python\\IBS_BAP\\utils\\ffmpeg\\ffmpeg.exe\n",
      "['I', 'P', 'P', 'P', 'P', 'P', 'P', 'P', 'P', 'P', 'P', 'P', 'P', 'P', 'P', 'P', 'P', 'P', 'P', 'P', 'P', 'P', 'P', 'P', 'P', 'P', 'P', 'P', 'P', 'P', 'P', 'P', 'P', 'P', 'P', 'P', 'P', 'P', 'P', 'P', 'P', 'P', 'P', 'P', 'P', 'P', 'P', 'P', 'P', 'P', 'P', 'P', 'P', 'P', 'P', 'P', 'P', 'P', 'P', 'P', 'P', 'P', 'P', 'P', 'P', 'P', 'P', 'P', 'P', 'P', 'P', 'P', 'P', 'P', 'P', 'P', 'P', 'P', 'P', 'P', 'P', 'P', 'P', 'P', 'P', 'P', 'P', 'P', 'P', 'P', 'P', 'P', 'P', 'P', 'P', 'P', 'P', 'P', 'P', 'P']\n",
      "Deleted: temp.mp4\n"
     ]
    }
   ],
   "source": [
    "import os\n",
    "import subprocess\n",
    "\n",
    "def extract_first_frames(video_path, output_path=\"temp.mp4\", time = 5):\n",
    "    \"\"\"FFmpeg로 첫 5초만 추출\"\"\"\n",
    "    # ffmpeg_path = \"ffmpeg.exe\"  # ffmpeg 경로\n",
    "    ffmpeg_path = os.path.join(os.getcwd(), \"utils\\\\ffmpeg\\\\ffmpeg.exe\")  # ffprobe.exe 경로\n",
    "    print(ffmpeg_path)\n",
    "    cmd = [\n",
    "        ffmpeg_path,\n",
    "        \"-ss\", \"0\",\n",
    "        \"-t\", \"5\",\n",
    "        \"-i\", video_path,\n",
    "        \"-c:v\", \"libx264\",\n",
    "        \"-c:v\", \"copy\",\n",
    "        \"-an\",\n",
    "        output_path\n",
    "    ]\n",
    "    subprocess.run(cmd, stdout=subprocess.PIPE, stderr=subprocess.PIPE, text=True)\n",
    "    return output_path\n",
    "\n",
    "def analyze_video(video_path):\n",
    "    \"\"\"분석된 비디오 파일에서 프레임 타입 추출\"\"\"\n",
    "    ffprobe_path = os.path.join(os.getcwd(), \"utils\\\\ffmpeg\\\\ffprobe.exe\")  # ffprobe.exe 경로\n",
    "    # ffprobe_path = \"ffprobe.exe\"  # ffprobe 경로\n",
    "    cmd = [\n",
    "        ffprobe_path,\n",
    "        \"-i\", video_path,\n",
    "        \"-show_frames\",\n",
    "        \"-show_entries\", \"frame=pict_type\",\n",
    "        \"-of\", \"csv\"\n",
    "    ]\n",
    "    \n",
    "    result = subprocess.run(cmd, stdout=subprocess.PIPE, stderr=subprocess.PIPE, text=True)\n",
    "    frames = [\n",
    "        line.split(\",\")[-1] for line in result.stdout.splitlines()\n",
    "        if line.startswith(\"frame\") and line.split(\",\")[-1].strip() != \"\"\n",
    "    ]\n",
    "    return frames\n",
    "\n",
    "def delete_file(file_path):\n",
    "    \"\"\"지정된 파일 삭제\"\"\"\n",
    "    if os.path.exists(file_path):\n",
    "        os.remove(file_path)\n",
    "        print(f\"Deleted: {file_path}\")\n",
    "    else:\n",
    "        print(f\"File not found: {file_path}\")\n",
    "        \n",
    "# 실행\n",
    "# input_video = 'D:/spkim/data/20241209_40Hz_B6_young/20241209_40Hz_B6_young/2024-12-09_1_20Hz_iframe.mp4'\n",
    "input_video = \"C_20Hz_Bandi_20fps.mp4\"\n",
    "output_video = extract_first_frames(input_video, time = 5)  # 앞 100프레임만 추출\n",
    "frame_types = analyze_video(output_video)  # 추출된 파일 분석\n",
    "print(frame_types)\n",
    "delete_file(output_video)\n"
   ]
  },
  {
   "cell_type": "code",
   "execution_count": 4,
   "id": "127f5ff0-3027-473c-947b-3a196c2a84db",
   "metadata": {},
   "outputs": [
    {
     "ename": "CalledProcessError",
     "evalue": "Command '['ffmpeg.exe', '-i', 'input.mp4', '-frames:v', '1', '-q:v', '2', 'output.jpg']' returned non-zero exit status 3221225781.",
     "output_type": "error",
     "traceback": [
      "\u001b[1;31m---------------------------------------------------------------------------\u001b[0m",
      "\u001b[1;31mCalledProcessError\u001b[0m                        Traceback (most recent call last)",
      "Cell \u001b[1;32mIn[4], line 10\u001b[0m\n\u001b[0;32m      1\u001b[0m \u001b[38;5;28;01mimport\u001b[39;00m\u001b[38;5;250m \u001b[39m\u001b[38;5;21;01msubprocess\u001b[39;00m\n\u001b[0;32m      3\u001b[0m command \u001b[38;5;241m=\u001b[39m [\n\u001b[0;32m      4\u001b[0m     \u001b[38;5;124m\"\u001b[39m\u001b[38;5;124mffmpeg.exe\u001b[39m\u001b[38;5;124m\"\u001b[39m,\n\u001b[0;32m      5\u001b[0m     \u001b[38;5;124m\"\u001b[39m\u001b[38;5;124m-i\u001b[39m\u001b[38;5;124m\"\u001b[39m, \u001b[38;5;124m\"\u001b[39m\u001b[38;5;124minput.mp4\u001b[39m\u001b[38;5;124m\"\u001b[39m,\n\u001b[1;32m   (...)\u001b[0m\n\u001b[0;32m      8\u001b[0m     \u001b[38;5;124m\"\u001b[39m\u001b[38;5;124moutput.jpg\u001b[39m\u001b[38;5;124m\"\u001b[39m\n\u001b[0;32m      9\u001b[0m ]\n\u001b[1;32m---> 10\u001b[0m \u001b[43msubprocess\u001b[49m\u001b[38;5;241;43m.\u001b[39;49m\u001b[43mrun\u001b[49m\u001b[43m(\u001b[49m\u001b[43mcommand\u001b[49m\u001b[43m,\u001b[49m\u001b[43m \u001b[49m\u001b[43mcheck\u001b[49m\u001b[38;5;241;43m=\u001b[39;49m\u001b[38;5;28;43;01mTrue\u001b[39;49;00m\u001b[43m)\u001b[49m\n",
      "File \u001b[1;32mC:\\ProgramData\\anaconda3\\envs\\IBS_BAP\\lib\\subprocess.py:526\u001b[0m, in \u001b[0;36mrun\u001b[1;34m(input, capture_output, timeout, check, *popenargs, **kwargs)\u001b[0m\n\u001b[0;32m    524\u001b[0m     retcode \u001b[38;5;241m=\u001b[39m process\u001b[38;5;241m.\u001b[39mpoll()\n\u001b[0;32m    525\u001b[0m     \u001b[38;5;28;01mif\u001b[39;00m check \u001b[38;5;129;01mand\u001b[39;00m retcode:\n\u001b[1;32m--> 526\u001b[0m         \u001b[38;5;28;01mraise\u001b[39;00m CalledProcessError(retcode, process\u001b[38;5;241m.\u001b[39margs,\n\u001b[0;32m    527\u001b[0m                                  output\u001b[38;5;241m=\u001b[39mstdout, stderr\u001b[38;5;241m=\u001b[39mstderr)\n\u001b[0;32m    528\u001b[0m \u001b[38;5;28;01mreturn\u001b[39;00m CompletedProcess(process\u001b[38;5;241m.\u001b[39margs, retcode, stdout, stderr)\n",
      "\u001b[1;31mCalledProcessError\u001b[0m: Command '['ffmpeg.exe', '-i', 'input.mp4', '-frames:v', '1', '-q:v', '2', 'output.jpg']' returned non-zero exit status 3221225781."
     ]
    }
   ],
   "source": [
    "import subprocess\n",
    "\n",
    "command = [\n",
    "    \"ffmpeg.exe\",\n",
    "    \"-i\", \"input.mp4\",\n",
    "    \"-frames:v\", \"1\",\n",
    "    \"-q:v\", \"2\",\n",
    "    \"output.jpg\"\n",
    "]\n",
    "subprocess.run(command, check=True)\n"
   ]
  },
  {
   "cell_type": "code",
   "execution_count": null,
   "id": "f3341111-abdd-400c-b711-692ad4566ab8",
   "metadata": {},
   "outputs": [],
   "source": []
  }
 ],
 "metadata": {
  "kernelspec": {
   "display_name": "Python 3 (ipykernel)",
   "language": "python",
   "name": "python3"
  },
  "language_info": {
   "codemirror_mode": {
    "name": "ipython",
    "version": 3
   },
   "file_extension": ".py",
   "mimetype": "text/x-python",
   "name": "python",
   "nbconvert_exporter": "python",
   "pygments_lexer": "ipython3",
   "version": "3.10.16"
  }
 },
 "nbformat": 4,
 "nbformat_minor": 5
}
